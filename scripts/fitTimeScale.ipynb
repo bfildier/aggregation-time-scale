{
 "cells": [
  {
   "cell_type": "code",
   "execution_count": 1,
   "metadata": {
    "ExecuteTime": {
     "end_time": "2020-04-03T10:38:01.001910Z",
     "start_time": "2020-04-03T10:38:00.708356Z"
    }
   },
   "outputs": [],
   "source": [
    "%load_ext autoreload\n",
    "%matplotlib inline"
   ]
  },
  {
   "cell_type": "code",
   "execution_count": 245,
   "metadata": {
    "ExecuteTime": {
     "end_time": "2020-04-03T13:10:47.946832Z",
     "start_time": "2020-04-03T13:10:47.942255Z"
    }
   },
   "outputs": [],
   "source": [
    "import os,sys,glob\n",
    "import matplotlib\n",
    "import matplotlib.pyplot as plt\n",
    "from mpl_toolkits.axes_grid1 import make_axes_locatable\n",
    "import numpy as np\n",
    "import pandas as pd\n",
    "import xarray as xr\n",
    "import pickle \n",
    "from math import *\n",
    "import warnings\n",
    "\n",
    "from scipy.optimize import curve_fit\n",
    "# from scipy.ndimage import gaussian_filter\n",
    "from scipy.signal import argrelextrema\n"
   ]
  },
  {
   "cell_type": "code",
   "execution_count": 3,
   "metadata": {
    "ExecuteTime": {
     "end_time": "2020-04-03T10:38:06.270469Z",
     "start_time": "2020-04-03T10:38:06.262120Z"
    }
   },
   "outputs": [
    {
     "name": "stdout",
     "output_type": "stream",
     "text": [
      "repo: /Users/bfildier/Code/analyses/aggregation-time-scale\n",
      "Own modules available: ['plot2D', 'conditionalstats', 'moistdryedge']\n"
     ]
    }
   ],
   "source": [
    "## Add own library to path\n",
    "workdir = os.getcwd()\n",
    "repodir = workdir\n",
    "projectname = 'aggregation-time-scale'\n",
    "while os.path.basename(repodir) != projectname:\n",
    "    repodir = os.path.dirname(repodir)\n",
    "print('repo:',repodir)\n",
    "thismodule = sys.modules[__name__]\n",
    "## Own functions\n",
    "moduledir = os.path.join(repodir,'functions')\n",
    "sys.path.insert(0,moduledir)\n",
    "print(\"Own modules available:\", [os.path.splitext(os.path.basename(x))[0]\n",
    "                                 for x in glob.glob(os.path.join(moduledir,'*.py'))])"
   ]
  },
  {
   "cell_type": "code",
   "execution_count": 4,
   "metadata": {
    "ExecuteTime": {
     "end_time": "2020-04-03T10:38:10.768339Z",
     "start_time": "2020-04-03T10:38:10.763088Z"
    }
   },
   "outputs": [],
   "source": [
    "# local input directory\n",
    "inputdir = os.path.join(repodir,'input','irene')\n",
    "figdir = os.path.join(repodir,'figures')\n",
    "moviedir = os.path.join(repodir,'movies')\n",
    "resultdir = os.path.join(repodir,'results')\n",
    "\n",
    "# ## Load own libraries\n",
    "# from moistdryedge import *\n",
    "# from conditionalstats import *\n",
    "# from plot2D import *\n",
    "\n",
    "## Graphical parameters\n",
    "plt.style.use(os.path.join(matplotlib.get_configdir(),'stylelib/presentation.mplstyle'))"
   ]
  },
  {
   "cell_type": "code",
   "execution_count": 5,
   "metadata": {
    "ExecuteTime": {
     "end_time": "2020-04-03T10:38:13.272895Z",
     "start_time": "2020-04-03T10:38:13.270347Z"
    }
   },
   "outputs": [],
   "source": [
    "edgevar = 'PW'\n",
    "# edgevar = 'CRH'\n",
    "\n",
    "# refvars = 'PW','CRH'"
   ]
  },
  {
   "cell_type": "code",
   "execution_count": 227,
   "metadata": {
    "ExecuteTime": {
     "end_time": "2020-04-03T12:56:36.945962Z",
     "start_time": "2020-04-03T12:56:36.940190Z"
    }
   },
   "outputs": [
    {
     "name": "stdout",
     "output_type": "stream",
     "text": [
      "nprocs: 256\n",
      "caseid: RCE_SST307d1p0r1\n"
     ]
    }
   ],
   "source": [
    "# simname = 'SAM6113_RCE_SST303d1p0r1'\n",
    "# simname = 'SAM6113_RCE_SST305d1p0r1'\n",
    "# simname = 'SAM6113_RCE_SST305d2p0r1'\n",
    "simname = 'SAM6113_RCE_SST307d1p0r1'\n",
    "\n",
    "def getDtype(simname):\n",
    "    return simname[-5:-4]\n",
    "\n",
    "##-- number of processors\n",
    "nproc = 256\n",
    "# nproc = 128\n",
    "print('nprocs: %d'%nproc)\n",
    "\n",
    "# get sim-dependent variables\n",
    "caseid = '_'.join(simname.split('_')[1:])\n",
    "print('caseid:',caseid)\n",
    "simdir = os.path.join(inputdir,simname+'.0')\n",
    "inputfile2D = \"%s_%d.2Dcom_1.nc\"%(caseid,nproc)"
   ]
  },
  {
   "cell_type": "code",
   "execution_count": 228,
   "metadata": {
    "ExecuteTime": {
     "end_time": "2020-04-03T12:56:37.337548Z",
     "start_time": "2020-04-03T12:56:37.322863Z"
    }
   },
   "outputs": [
    {
     "name": "stdout",
     "output_type": "stream",
     "text": [
      "load 2D data\n"
     ]
    }
   ],
   "source": [
    "print('load 2D data')\n",
    "data2D = xr.open_dataset(os.path.join(simdir,inputfile2D))\n",
    "time = data2D.time.values"
   ]
  },
  {
   "cell_type": "code",
   "execution_count": 229,
   "metadata": {
    "ExecuteTime": {
     "end_time": "2020-04-03T12:56:37.561971Z",
     "start_time": "2020-04-03T12:56:37.554752Z"
    }
   },
   "outputs": [
    {
     "name": "stdout",
     "output_type": "stream",
     "text": [
      "load edge\n"
     ]
    }
   ],
   "source": [
    "print(\"load edge\")\n",
    "file_edge = os.path.join(resultdir,simname,\"edge_%s.p\"%edgevar)\n",
    "setattr(thismodule,\"edge\",pickle.load(open(file_edge,\"rb\")))"
   ]
  },
  {
   "cell_type": "markdown",
   "metadata": {},
   "source": [
    "## Criterion to pick initial time"
   ]
  },
  {
   "cell_type": "code",
   "execution_count": 244,
   "metadata": {
    "ExecuteTime": {
     "end_time": "2020-04-03T13:10:42.868336Z",
     "start_time": "2020-04-03T13:10:42.859546Z"
    }
   },
   "outputs": [],
   "source": [
    "def findBeginEndIndices(vec,width=4):\n",
    "\n",
    "    # smooth input vector\n",
    "    vec_smooth = np.convolve(vec,np.linspace(1/width,1/width,width),mode='same')\n",
    "    if getDtype(simname) == '1':\n",
    "        n = 2\n",
    "        vec_smooth2 = np.convolve(vec,np.linspace(1/(n*width),1/(n*width),(n*width)),mode='same')\n",
    "    else:\n",
    "        vec_smooth2 = vec_smooth\n",
    "        \n",
    "    with warnings.catch_warnings():\n",
    "        warnings.simplefilter(\"ignore\")\n",
    "        # find local minima, if any\n",
    "        locmins = argrelextrema(vec_smooth,np.less)[0]\n",
    "        # find local maxima, if any\n",
    "        locmaxs = list(argrelextrema(vec_smooth2,np.greater)[0])\n",
    "\n",
    "    if len(locmins) == 0:\n",
    "        i_min = np.argmax(np.logical_not(np.isnan(vec))) # first non-nan element\n",
    "    else:\n",
    "        i_min = locmins[0]\n",
    "\n",
    "    if len(locmaxs) == 0:\n",
    "        i_max = -np.argmax(np.logical_not(np.isnan(np.flipud(vec))))\n",
    "    else:\n",
    "        # only accept a window > 10\n",
    "        while len(locmaxs)>0 and locmaxs[0]<i_min+10:\n",
    "            del locmaxs[0]\n",
    "        # pick first local max\n",
    "        i_max = locmaxs[0]\n",
    "\n",
    "    return i_min, i_max, vec_smooth"
   ]
  },
  {
   "cell_type": "code",
   "execution_count": null,
   "metadata": {
    "ExecuteTime": {
     "end_time": "2020-04-03T10:59:06.731842Z",
     "start_time": "2020-04-03T10:59:06.727745Z"
    }
   },
   "outputs": [],
   "source": []
  },
  {
   "cell_type": "code",
   "execution_count": 246,
   "metadata": {
    "ExecuteTime": {
     "end_time": "2020-04-03T13:10:51.680488Z",
     "start_time": "2020-04-03T13:10:51.369039Z"
    }
   },
   "outputs": [
    {
     "name": "stdout",
     "output_type": "stream",
     "text": [
      "investigate criterion based on number of points detected on boundary -- local min towards the beginning of the simulation?\n",
      "take first local min as beginning\n",
      "11.0\n",
      "47.0\n"
     ]
    },
    {
     "data": {
      "image/png": "[encoded data removed]",
      "text/plain": [
       "<Figure size 360x360 with 2 Axes>"
      ]
     },
     "metadata": {
      "needs_background": "light"
     },
     "output_type": "display_data"
    }
   ],
   "source": [
    "print(\"Investigate criterion based on number of points detected on boundary -- local min towards the beginning of the simulation?\")\n",
    "\n",
    "Npts = [len(edge.edges[i].border_i) for i in range(len(edge.edges))]\n",
    "\n",
    "print(\"take first local min as beginning\")\n",
    "i_min,i_max,fracarea_smooth = findBeginEndIndices(edge.fracarea_PW,4)\n",
    "print(time[i_min])\n",
    "print(time[i_max])\n",
    "\n",
    "fig,ax = plt.subplots(figsize=(5,5))\n",
    "ax.plot(time,Npts,'k')\n",
    "ax.set_ylabel('# pts on border')\n",
    "ax.set_xlabel('Days')\n",
    "\n",
    "# Fraction area\n",
    "ax_r = ax.twinx()\n",
    "ax_r.plot(time,edge.fracarea_PW,'r:')\n",
    "ax_r.plot(time,fracarea_smooth,'r')\n",
    "ax_r.set_ylabel('Dry fraction area')\n",
    "# show first local minimum\n",
    "ax_r.axvline(time[i_min],c='brown',linestyle=':')\n",
    "# show first local maximum\n",
    "ax_r.axvline(time[i_max],c='brown',linestyle=':')\n",
    "\n",
    "ax_r.yaxis.label.set_color('red')\n",
    "ax_r.spines['right'].set_edgecolor('r')\n",
    "ax_r.tick_params(axis='y',colors='r')\n",
    "\n",
    "plt.savefig(os.path.join(figdir,simname,\"procedure_find_range_for_fit_%s.pdf\"%edgevar),bbox_inches='tight')"
   ]
  },
  {
   "cell_type": "markdown",
   "metadata": {},
   "source": [
    "## Fit exponential"
   ]
  },
  {
   "cell_type": "code",
   "execution_count": 240,
   "metadata": {
    "ExecuteTime": {
     "end_time": "2020-04-03T13:00:38.657008Z",
     "start_time": "2020-04-03T13:00:38.642109Z"
    }
   },
   "outputs": [
    {
     "name": "stdout",
     "output_type": "stream",
     "text": [
      "fit exponential\n",
      "define beginning of range as local min\n",
      "\n",
      "t0 = 61.51750356709059\n",
      "tau = 12.95804978428265\n",
      "sigma(t0) = 0.9244053905116864\n",
      "sigma(tau) = 0.3383375903724934\n"
     ]
    },
    {
     "name": "stderr",
     "output_type": "stream",
     "text": [
      "/Users/bfildier/anaconda3/envs/pyLMD/lib/python3.7/site-packages/scipy/signal/_peak_finding.py:77: RuntimeWarning: invalid value encountered in less\n",
      "  results &= comparator(main, plus)\n",
      "/Users/bfildier/anaconda3/envs/pyLMD/lib/python3.7/site-packages/scipy/signal/_peak_finding.py:78: RuntimeWarning: invalid value encountered in less\n",
      "  results &= comparator(main, minus)\n",
      "/Users/bfildier/anaconda3/envs/pyLMD/lib/python3.7/site-packages/scipy/signal/_peak_finding.py:77: RuntimeWarning: invalid value encountered in greater\n",
      "  results &= comparator(main, plus)\n",
      "/Users/bfildier/anaconda3/envs/pyLMD/lib/python3.7/site-packages/scipy/signal/_peak_finding.py:78: RuntimeWarning: invalid value encountered in greater\n",
      "  results &= comparator(main, minus)\n"
     ]
    }
   ],
   "source": [
    "print(\"fit exponential\")\n",
    "\n",
    "t = data2D.time\n",
    "area = getattr(edge,\"fracarea_%s\"%edgevar)\n",
    "\n",
    "print(\"define beginning of range as local min\")\n",
    "i_tmin,i_tmax,area_smooth = findBeginEndIndices(area,4)\n",
    "# define slice\n",
    "s_t = slice(i_tmin,i_tmax)\n",
    "\n",
    "# model\n",
    "def model(t,t0,tau):\n",
    "    return (t-t0)/tau\n",
    "\n",
    "# fitting function\n",
    "def fit(x,y):\n",
    "\n",
    "    valid = np.logical_not(np.logical_or(np.isnan(x),np.isnan(y))).values\n",
    "\n",
    "    x_no_nans = x[valid]\n",
    "    y_no_nans = y[valid]\n",
    "\n",
    "    x2fit = x_no_nans.astype(np.float64)\n",
    "    y2fit = np.log(y_no_nans).astype(np.float64)\n",
    "\n",
    "    x0 = (1,1)\n",
    "\n",
    "    fit, pcov = curve_fit(model, x2fit, y2fit,p0=x0, method='lm')\n",
    "    \n",
    "    return fit,pcov\n",
    "\n",
    "# compute\n",
    "params,cov = fit(t[s_t],area[s_t])\n",
    "t0,tau = params\n",
    "std_t0, std_tau = np.sqrt(np.diag(cov))\n",
    "\n",
    "print()\n",
    "print('t0 =',t0)\n",
    "print('tau =',tau)\n",
    "print('sigma(t0) =',std_t0)\n",
    "print('sigma(tau) =',std_tau)"
   ]
  },
  {
   "cell_type": "code",
   "execution_count": 241,
   "metadata": {
    "ExecuteTime": {
     "end_time": "2020-04-03T13:00:38.939837Z",
     "start_time": "2020-04-03T13:00:38.658215Z"
    }
   },
   "outputs": [
    {
     "data": {
      "image/png": "[encoded data removed]",
      "text/plain": [
       "<Figure size 432x360 with 1 Axes>"
      ]
     },
     "metadata": {
      "needs_background": "light"
     },
     "output_type": "display_data"
    }
   ],
   "source": [
    "s_tplot = slice(max(i_tmin-3,0),min(i_tmax+3,len(t)))\n",
    "\n",
    "fig,ax = plt.subplots(figsize=(6,5))\n",
    "\n",
    "# show range of times used for regression\n",
    "ax.axvspan(t[i_tmin], t[i_tmax], alpha=0.05, color='k')\n",
    "# show fraction area and fit\n",
    "ax.plot(t,np.log(area),'k',label='Fraction area')\n",
    "ax.plot(t[s_tplot],(t[s_tplot]-t0)/tau,'k--',label='Fit')\n",
    "\n",
    "# labels\n",
    "ax.set_ylabel('log(fracarea)')\n",
    "ax.set_xlabel('time (days)')\n",
    "ax.set_title(r'Time scale $\\tau=%2.1f\\pm%2.1f$ days'%(tau,std_tau))\n",
    "\n",
    "ax.legend()\n",
    "\n",
    "plt.savefig(os.path.join(figdir,simname,\"fit_log_fracarea_%s.pdf\"%edgevar),bbox_inches='tight')\n",
    "plt.show()"
   ]
  },
  {
   "cell_type": "code",
   "execution_count": 242,
   "metadata": {
    "ExecuteTime": {
     "end_time": "2020-04-03T13:00:39.220024Z",
     "start_time": "2020-04-03T13:00:38.940970Z"
    }
   },
   "outputs": [
    {
     "data": {
      "image/png": "[encoded data removed]",
      "text/plain": [
       "<Figure size 432x360 with 1 Axes>"
      ]
     },
     "metadata": {
      "needs_background": "light"
     },
     "output_type": "display_data"
    }
   ],
   "source": [
    "s_tplot = slice(max(i_tmin-3,0),min(i_tmax+3,len(t)))\n",
    "\n",
    "fig,ax = plt.subplots(figsize=(6,5))\n",
    "\n",
    "# show range of times used for regression\n",
    "ax.axvspan(i_tmin, i_tmax, alpha=0.05, color='k')\n",
    "# show fraction area and fit\n",
    "ax.plot(t,area,'k',label='Fraction area')\n",
    "ax.plot(t[s_tplot],np.exp((t[s_tplot]-t0)/tau),'k--',label='Fit')\n",
    "\n",
    "# labels\n",
    "ax.set_ylabel('Fracarea')\n",
    "ax.set_xlabel('time (days)')\n",
    "ax.set_title(r'Time scale $\\tau=%2.1f\\pm%2.1f$ days'%(tau,std_tau))\n",
    "\n",
    "ax.legend()\n",
    "\n",
    "plt.savefig(os.path.join(figdir,simname,\"fit_fracarea_%s.pdf\"%edgevar),bbox_inches='tight')\n",
    "plt.show()"
   ]
  },
  {
   "cell_type": "code",
   "execution_count": 243,
   "metadata": {
    "ExecuteTime": {
     "end_time": "2020-04-03T13:00:39.225746Z",
     "start_time": "2020-04-03T13:00:39.221224Z"
    }
   },
   "outputs": [
    {
     "name": "stdout",
     "output_type": "stream",
     "text": [
      "save timescale\n"
     ]
    }
   ],
   "source": [
    "print(\"save timescale\")\n",
    "\n",
    "savename = \"exp_fit_params_%s.p\"%edgevar\n",
    "pickle.dump((t0,tau),open(os.path.join(resultdir,simname,savename),\"wb\"))\n",
    "savename = \"std_exp_fit_params_%s.p\"%edgevar\n",
    "pickle.dump((std_t0,std_tau),open(os.path.join(resultdir,simname,savename),\"wb\"))"
   ]
  },
  {
   "cell_type": "code",
   "execution_count": null,
   "metadata": {},
   "outputs": [],
   "source": []
  }
 ],
 "metadata": {
  "hide_input": false,
  "kernelspec": {
   "display_name": "Python 3",
   "language": "python",
   "name": "python3"
  },
  "language_info": {
   "codemirror_mode": {
    "name": "ipython",
    "version": 3
   },
   "file_extension": ".py",
   "mimetype": "text/x-python",
   "name": "python",
   "nbconvert_exporter": "python",
   "pygments_lexer": "ipython3",
   "version": "3.7.6"
  },
  "toc": {
   "base_numbering": 1,
   "nav_menu": {},
   "number_sections": true,
   "sideBar": true,
   "skip_h1_title": false,
   "title_cell": "Table of Contents",
   "title_sidebar": "Contents",
   "toc_cell": false,
   "toc_position": {},
   "toc_section_display": true,
   "toc_window_display": false
  },
  "varInspector": {
   "cols": {
    "lenName": 16,
    "lenType": 16,
    "lenVar": 40
   },
   "kernels_config": {
    "python": {
     "delete_cmd_postfix": "",
     "delete_cmd_prefix": "del ",
     "library": "var_list.py",
     "varRefreshCmd": "print(var_dic_list())"
    },
    "r": {
     "delete_cmd_postfix": ") ",
     "delete_cmd_prefix": "rm(",
     "library": "var_list.r",
     "varRefreshCmd": "cat(var_dic_list()) "
    }
   },
   "types_to_exclude": [
    "module",
    "function",
    "builtin_function_or_method",
    "instance",
    "_Feature"
   ],
   "window_display": false
  }
 },
 "nbformat": 4,
 "nbformat_minor": 2
}
