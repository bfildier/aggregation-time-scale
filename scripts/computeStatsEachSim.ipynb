{
 "cells": [
  {
   "cell_type": "code",
   "execution_count": 1,
   "metadata": {
    "ExecuteTime": {
     "end_time": "2020-03-04T17:57:35.996167Z",
     "start_time": "2020-03-04T17:57:35.781195Z"
    }
   },
   "outputs": [],
   "source": [
    "%load_ext autoreload\n",
    "%matplotlib inline"
   ]
  },
  {
   "cell_type": "code",
   "execution_count": 2,
   "metadata": {
    "ExecuteTime": {
     "end_time": "2020-03-04T17:57:36.648948Z",
     "start_time": "2020-03-04T17:57:36.033861Z"
    }
   },
   "outputs": [
    {
     "name": "stderr",
     "output_type": "stream",
     "text": [
      "/Users/bfildier/anaconda3/envs/pyLMD/lib/python3.7/site-packages/xarray/core/merge.py:17: FutureWarning: The Panel class is removed from pandas. Accessing it from the top-level namespace will also be removed in the next version\n",
      "  PANDAS_TYPES = (pd.Series, pd.DataFrame, pd.Panel)\n"
     ]
    }
   ],
   "source": [
    "import os,sys,glob\n",
    "import matplotlib\n",
    "import matplotlib.pyplot as plt\n",
    "import numpy as np\n",
    "import pandas as pd\n",
    "import xarray as xr\n",
    "import pickle \n"
   ]
  },
  {
   "cell_type": "code",
   "execution_count": 3,
   "metadata": {
    "ExecuteTime": {
     "end_time": "2020-03-04T17:57:36.665298Z",
     "start_time": "2020-03-04T17:57:36.658028Z"
    }
   },
   "outputs": [
    {
     "name": "stdout",
     "output_type": "stream",
     "text": [
      "repo: /Users/bfildier/Code/analyses/aggregation-time-scale\n",
      "Own modules available: ['conditionalstats', 'moistdryedge']\n"
     ]
    }
   ],
   "source": [
    "## Add own library to path\n",
    "workdir = os.getcwd()\n",
    "repodir = workdir\n",
    "projectname = 'aggregation-time-scale'\n",
    "while os.path.basename(repodir) != projectname:\n",
    "    repodir = os.path.dirname(repodir)\n",
    "print('repo:',repodir)\n",
    "thismodule = sys.modules[__name__]\n",
    "## Own functions\n",
    "moduledir = os.path.join(repodir,'functions')\n",
    "sys.path.insert(0,moduledir)\n",
    "print(\"Own modules available:\", [os.path.splitext(os.path.basename(x))[0]\n",
    "                                 for x in glob.glob(os.path.join(moduledir,'*.py'))])"
   ]
  },
  {
   "cell_type": "code",
   "execution_count": 4,
   "metadata": {
    "ExecuteTime": {
     "end_time": "2020-03-04T17:57:36.694620Z",
     "start_time": "2020-03-04T17:57:36.677758Z"
    }
   },
   "outputs": [],
   "source": [
    "# local input directory\n",
    "inputdir = os.path.join(repodir,'input','irene')\n",
    "figdir = os.path.join(repodir,'figures')\n",
    "resultdir = os.path.join(repodir,'results')\n",
    "\n",
    "## Load own libraries\n",
    "from moistdryedge import *\n",
    "\n",
    "## Graphical parameters\n",
    "plt.style.use(os.path.join(matplotlib.get_configdir(),'stylelib/presentation.mplstyle'))"
   ]
  },
  {
   "cell_type": "markdown",
   "metadata": {},
   "source": [
    "# Load data"
   ]
  },
  {
   "cell_type": "code",
   "execution_count": 5,
   "metadata": {
    "ExecuteTime": {
     "end_time": "2020-03-04T17:57:39.452728Z",
     "start_time": "2020-03-04T17:57:39.446180Z"
    }
   },
   "outputs": [
    {
     "name": "stdout",
     "output_type": "stream",
     "text": [
      "simname: SAM6113_RCE_SST305d1p0r1\n",
      "caseid: RCE_SST305d1p0r1\n"
     ]
    }
   ],
   "source": [
    "simname = 'SAM6113_RCE_SST305d1p0r1'\n",
    "print('simname:',simname)\n",
    "\n",
    "# create output subdirectories\n",
    "os.makedirs(os.path.join(figdir,simname),exist_ok=True)\n",
    "os.makedirs(os.path.join(resultdir,simname),exist_ok=True)\n",
    "\n",
    "# get sim-dependent variables\n",
    "caseid = '_'.join(simname.split('_')[1:])\n",
    "print('caseid:',caseid)\n",
    "simdir = os.path.join(inputdir,simname+'.0')\n",
    "inputfile2D = \"%s_256.2Dcom_1.nc\"%caseid"
   ]
  },
  {
   "cell_type": "code",
   "execution_count": 6,
   "metadata": {
    "ExecuteTime": {
     "end_time": "2020-03-04T17:57:42.404146Z",
     "start_time": "2020-03-04T17:57:42.370192Z"
    }
   },
   "outputs": [
    {
     "name": "stdout",
     "output_type": "stream",
     "text": [
      "load 2D data\n"
     ]
    }
   ],
   "source": [
    "print('load 2D data')\n",
    "data2D = xr.open_dataset(os.path.join(simdir,inputfile2D))"
   ]
  },
  {
   "cell_type": "markdown",
   "metadata": {},
   "source": [
    "# Calculate stats over time"
   ]
  },
  {
   "cell_type": "code",
   "execution_count": 7,
   "metadata": {
    "ExecuteTime": {
     "end_time": "2020-03-04T17:57:44.907326Z",
     "start_time": "2020-03-04T17:57:44.904369Z"
    }
   },
   "outputs": [],
   "source": [
    "vars4stats = ['PW','CRH','LHF','SHF','LWNT','LWNS']"
   ]
  },
  {
   "cell_type": "markdown",
   "metadata": {},
   "source": [
    "## Edge "
   ]
  },
  {
   "cell_type": "code",
   "execution_count": 8,
   "metadata": {
    "ExecuteTime": {
     "end_time": "2020-03-04T18:01:30.871176Z",
     "start_time": "2020-03-04T17:57:57.436524Z"
    }
   },
   "outputs": [
    {
     "name": "stdout",
     "output_type": "stream",
     "text": [
      "Calculate edge and stats for boundary defined based on CRH and PW\n",
      "PW, "
     ]
    },
    {
     "name": "stderr",
     "output_type": "stream",
     "text": [
      "/Users/bfildier/anaconda3/envs/pyLMD/lib/python3.7/site-packages/numpy/core/fromnumeric.py:3118: RuntimeWarning: Mean of empty slice.\n",
      "  out=out, **kwargs)\n",
      "/Users/bfildier/anaconda3/envs/pyLMD/lib/python3.7/site-packages/numpy/core/_methods.py:85: RuntimeWarning: invalid value encountered in double_scalars\n",
      "  ret = ret.dtype.type(ret / rcount)\n",
      "/Users/bfildier/anaconda3/envs/pyLMD/lib/python3.7/site-packages/numpy/core/_methods.py:140: RuntimeWarning: Degrees of freedom <= 0 for slice\n",
      "  keepdims=keepdims)\n",
      "/Users/bfildier/anaconda3/envs/pyLMD/lib/python3.7/site-packages/numpy/core/_methods.py:110: RuntimeWarning: invalid value encountered in true_divide\n",
      "  arrmean, rcount, out=arrmean, casting='unsafe', subok=False)\n",
      "/Users/bfildier/anaconda3/envs/pyLMD/lib/python3.7/site-packages/numpy/core/_methods.py:132: RuntimeWarning: invalid value encountered in double_scalars\n",
      "  ret = ret.dtype.type(ret / rcount)\n"
     ]
    },
    {
     "name": "stdout",
     "output_type": "stream",
     "text": [
      "CRH, LHF, SHF, LWNT, LWNS, \n"
     ]
    }
   ],
   "source": [
    "print('Calculate edge and stats for boundary defined based on CRH and PW')\n",
    "\n",
    "#- Get edge\n",
    "# PW\n",
    "edge_PW = EdgeOverTime()\n",
    "edge_PW.compute(data2D.PW)\n",
    "# CRH\n",
    "edge_CRH = EdgeOverTime()\n",
    "edge_CRH.compute(data2D.CRH)\n",
    "\n",
    "#- Calculate stats\n",
    "for varid in vars4stats:\n",
    "    print(varid,end=', ')\n",
    "    for edge in edge_PW,edge_CRH:\n",
    "        \n",
    "        # mean on edge\n",
    "        edge.computeStatOnEdge(data2D[varid],varid)\n",
    "        # std on edge\n",
    "        edge.computeStatOnEdge(data2D[varid],varid,fname='std')\n",
    "        # mean of gradient norm on edge\n",
    "        edge.computeGradNormStatOnEdge(data2D[varid],varid)\n",
    "        # std of gradient norm on edge\n",
    "        edge.computeGradNormStatOnEdge(data2D[varid],varid,fname='std')\n",
    "\n",
    "print()"
   ]
  },
  {
   "cell_type": "code",
   "execution_count": 9,
   "metadata": {
    "ExecuteTime": {
     "end_time": "2020-03-04T18:01:30.905299Z",
     "start_time": "2020-03-04T18:01:30.893742Z"
    }
   },
   "outputs": [
    {
     "name": "stdout",
     "output_type": "stream",
     "text": [
      "save edges defined from PW and CRH\n"
     ]
    }
   ],
   "source": [
    "print(\"save edges defined from PW and CRH\")\n",
    "\n",
    "pickle.dump(edge_PW,open(os.path.join(resultdir,simname,\"edge_PW.p\"),\"wb\"))\n",
    "pickle.dump(edge_CRH,open(os.path.join(resultdir,simname,\"edge_CRH.p\"),\"wb\"))"
   ]
  },
  {
   "cell_type": "code",
   "execution_count": 10,
   "metadata": {
    "ExecuteTime": {
     "end_time": "2020-03-04T18:01:30.927026Z",
     "start_time": "2020-03-04T18:01:30.924101Z"
    }
   },
   "outputs": [],
   "source": [
    "def showErrorRange(ax,x,y,dy,**kwargs):\n",
    "    \n",
    "    ax.fill_between(x,y-dy,y+dy,**kwargs)"
   ]
  },
  {
   "cell_type": "code",
   "execution_count": 52,
   "metadata": {
    "ExecuteTime": {
     "end_time": "2020-03-04T17:28:31.600891Z",
     "start_time": "2020-03-04T17:28:30.885109Z"
    }
   },
   "outputs": [
    {
     "name": "stdout",
     "output_type": "stream",
     "text": [
      "plot stats on the boundary: compare edges defined from CRH and PW\n"
     ]
    }
   ],
   "source": [
    "print(\"plot stats on the boundary: compare edges defined from CRH and PW\")\n",
    "\n",
    "x = data2D.time\n",
    "\n",
    "for varid in vars4stats:\n",
    "\n",
    "    # create figure \n",
    "    fig,ax0 = plt.subplots(ncols=1,figsize=(6,5))\n",
    "    \n",
    "    for refvarid in 'PW','CRH':\n",
    "\n",
    "        edge = getattr(thismodule,\"edge_%s\"%refvarid)\n",
    "        # Get data\n",
    "        v_mean = getattr(edge,\"%s_mean\"%varid)\n",
    "        v_std = getattr(edge,\"%s_std\"%varid)\n",
    "        # plot\n",
    "        showErrorRange(ax0,x,v_mean,v_std,alpha=0.2)\n",
    "        ax0.plot(x,v_mean,label='%s-edge'%refvarid)\n",
    "\n",
    "    # labels\n",
    "    ax0.set_xlabel('Days')\n",
    "    ax0.set_ylabel('%s (%s)'%(varid,data2D[varid].units))\n",
    "    ax0.legend()\n",
    "\n",
    "    # save and close figure\n",
    "    plt.savefig(os.path.join(figdir,simname,\"%s_onPWandCRHedge.pdf\"%varid),bbox_inches='tight')\n",
    "    plt.close()\n"
   ]
  },
  {
   "cell_type": "code",
   "execution_count": null,
   "metadata": {},
   "outputs": [],
   "source": [
    "print(\"compute fraction area from thresholds based on PW and CRH\")\n",
    "\n"
   ]
  },
  {
   "cell_type": "markdown",
   "metadata": {},
   "source": [
    "## Conditional stats"
   ]
  },
  {
   "cell_type": "code",
   "execution_count": null,
   "metadata": {},
   "outputs": [],
   "source": []
  },
  {
   "cell_type": "markdown",
   "metadata": {},
   "source": [
    "## Tests"
   ]
  }
 ],
 "metadata": {
  "hide_input": false,
  "kernelspec": {
   "display_name": "Python 3",
   "language": "python",
   "name": "python3"
  },
  "language_info": {
   "codemirror_mode": {
    "name": "ipython",
    "version": 3
   },
   "file_extension": ".py",
   "mimetype": "text/x-python",
   "name": "python",
   "nbconvert_exporter": "python",
   "pygments_lexer": "ipython3",
   "version": "3.7.4"
  },
  "toc": {
   "base_numbering": 1,
   "nav_menu": {},
   "number_sections": true,
   "sideBar": true,
   "skip_h1_title": false,
   "title_cell": "Table of Contents",
   "title_sidebar": "Contents",
   "toc_cell": false,
   "toc_position": {},
   "toc_section_display": true,
   "toc_window_display": false
  },
  "varInspector": {
   "cols": {
    "lenName": 16,
    "lenType": 16,
    "lenVar": 40
   },
   "kernels_config": {
    "python": {
     "delete_cmd_postfix": "",
     "delete_cmd_prefix": "del ",
     "library": "var_list.py",
     "varRefreshCmd": "print(var_dic_list())"
    },
    "r": {
     "delete_cmd_postfix": ") ",
     "delete_cmd_prefix": "rm(",
     "library": "var_list.r",
     "varRefreshCmd": "cat(var_dic_list()) "
    }
   },
   "types_to_exclude": [
    "module",
    "function",
    "builtin_function_or_method",
    "instance",
    "_Feature"
   ],
   "window_display": false
  }
 },
 "nbformat": 4,
 "nbformat_minor": 2
}
