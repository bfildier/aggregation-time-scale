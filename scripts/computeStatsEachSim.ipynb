{
 "cells": [
  {
   "cell_type": "code",
   "execution_count": 3,
   "metadata": {
    "ExecuteTime": {
     "end_time": "2020-04-03T10:40:15.048558Z",
     "start_time": "2020-04-03T10:40:14.883029Z"
    }
   },
   "outputs": [],
   "source": [
    "%load_ext autoreload\n",
    "%matplotlib inline"
   ]
  },
  {
   "cell_type": "code",
   "execution_count": 4,
   "metadata": {
    "ExecuteTime": {
     "end_time": "2020-04-03T10:40:15.825555Z",
     "start_time": "2020-04-03T10:40:15.098827Z"
    }
   },
   "outputs": [],
   "source": [
    "import os,sys,glob\n",
    "import matplotlib\n",
    "import matplotlib.pyplot as plt\n",
    "import numpy as np\n",
    "import pandas as pd\n",
    "import xarray as xr\n",
    "import pickle \n",
    "\n",
    "from scipy.ndimage.filters import gaussian_filter,convolve\n",
    "# interactive\n",
    "from mpl_toolkits.axes_grid1 import make_axes_locatable\n",
    "# animation\n",
    "from matplotlib import animation\n"
   ]
  },
  {
   "cell_type": "code",
   "execution_count": 5,
   "metadata": {
    "ExecuteTime": {
     "end_time": "2020-04-03T10:40:15.845442Z",
     "start_time": "2020-04-03T10:40:15.839155Z"
    }
   },
   "outputs": [
    {
     "name": "stdout",
     "output_type": "stream",
     "text": [
      "repo: /Users/bfildier/Code/analyses/aggregation-time-scale\n",
      "Own modules available: ['plot2D', 'conditionalstats', 'moistdryedge']\n"
     ]
    }
   ],
   "source": [
    "## Add own library to path\n",
    "workdir = os.getcwd()\n",
    "repodir = workdir\n",
    "projectname = 'aggregation-time-scale'\n",
    "while os.path.basename(repodir) != projectname:\n",
    "    repodir = os.path.dirname(repodir)\n",
    "print('repo:',repodir)\n",
    "thismodule = sys.modules[__name__]\n",
    "## Own functions\n",
    "moduledir = os.path.join(repodir,'functions')\n",
    "sys.path.insert(0,moduledir)\n",
    "print(\"Own modules available:\", [os.path.splitext(os.path.basename(x))[0]\n",
    "                                 for x in glob.glob(os.path.join(moduledir,'*.py'))])"
   ]
  },
  {
   "cell_type": "code",
   "execution_count": 6,
   "metadata": {
    "ExecuteTime": {
     "end_time": "2020-04-03T10:40:16.559270Z",
     "start_time": "2020-04-03T10:40:16.487477Z"
    }
   },
   "outputs": [],
   "source": [
    "# local input directory\n",
    "inputdir = os.path.join(repodir,'input','irene')\n",
    "figdir = os.path.join(repodir,'figures')\n",
    "moviedir = os.path.join(repodir,'movies')\n",
    "resultdir = os.path.join(repodir,'results')\n",
    "\n",
    "## Load own libraries\n",
    "from moistdryedge import *\n",
    "from conditionalstats import *\n",
    "from plot2D import *\n",
    "\n",
    "## Graphical parameters\n",
    "plt.style.use(os.path.join(matplotlib.get_configdir(),'stylelib/presentation.mplstyle'))"
   ]
  },
  {
   "cell_type": "markdown",
   "metadata": {},
   "source": [
    "# Load data"
   ]
  },
  {
   "cell_type": "code",
   "execution_count": 56,
   "metadata": {
    "ExecuteTime": {
     "end_time": "2020-04-03T11:38:35.680775Z",
     "start_time": "2020-04-03T11:38:35.673284Z"
    }
   },
   "outputs": [
    {
     "name": "stdout",
     "output_type": "stream",
     "text": [
      "simname: SAM6113_RCE_SST307d1p0r1\n",
      "nprocs: 256\n",
      "timestamp: 0000432000\n",
      "caseid: RCE_SST307d1p0r1\n"
     ]
    }
   ],
   "source": [
    "# simname = 'SAM6113_RCE_SST301d1p0r1'\n",
    "# simname = 'SAM6113_RCE_SST303d1p0r1'\n",
    "# simname = 'SAM6113_RCE_SST305d1p0r1'\n",
    "# simname = 'SAM6113_RCE_SST305d2p0r1'\n",
    "simname = 'SAM6113_RCE_SST307d1p0r1'\n",
    "# simname = 'SAM6113_RCE_SST309d1p0r1'\n",
    "print('simname:',simname)\n",
    "\n",
    "def getDtype(simname):\n",
    "    return int(simname[-5:-4])\n",
    "\n",
    "##-- number of processors\n",
    "if getDtype(simname) == 1:\n",
    "    nproc = 256\n",
    "elif getDtype(simname) == 2:\n",
    "    nproc = 128\n",
    "print('nprocs: %d'%nproc)\n",
    "\n",
    "##-- timestamp\n",
    "ndays = 50\n",
    "# ndays = 33\n",
    "dt = 10 # seconds\n",
    "nsteps = int(ndays*86400/dt) # number of timesteps\n",
    "tstamp = '{:0>10d}'.format(nsteps)\n",
    "print('timestamp: %s'%tstamp)\n",
    "\n",
    "# create output subdirectories\n",
    "os.makedirs(os.path.join(figdir,simname),exist_ok=True)\n",
    "os.makedirs(os.path.join(resultdir,simname),exist_ok=True)\n",
    "\n",
    "# get sim-dependent variables\n",
    "caseid = '_'.join(simname.split('_')[1:])\n",
    "print('caseid:',caseid)\n",
    "simdir = os.path.join(inputdir,simname+'.0')\n",
    "inputfile2D = \"%s_%d.2Dcom_1.nc\"%(caseid,nproc)\n",
    "inputfile3D = \"%s_%d_%s.com3D.alltimes.nc\"%(caseid,nproc,tstamp)"
   ]
  },
  {
   "cell_type": "code",
   "execution_count": 57,
   "metadata": {
    "ExecuteTime": {
     "end_time": "2020-04-03T11:38:36.241116Z",
     "start_time": "2020-04-03T11:38:36.213989Z"
    },
    "scrolled": true
   },
   "outputs": [
    {
     "name": "stdout",
     "output_type": "stream",
     "text": [
      "load 2D data\n"
     ]
    }
   ],
   "source": [
    "print('load 2D data')\n",
    "data2D = xr.open_dataset(os.path.join(simdir,inputfile2D))"
   ]
  },
  {
   "cell_type": "code",
   "execution_count": 58,
   "metadata": {
    "ExecuteTime": {
     "end_time": "2020-04-03T11:38:36.617846Z",
     "start_time": "2020-04-03T11:38:36.593797Z"
    }
   },
   "outputs": [
    {
     "name": "stdout",
     "output_type": "stream",
     "text": [
      "load 3D data\n"
     ]
    }
   ],
   "source": [
    "print('load 3D data')\n",
    "data3D = xr.open_dataset(os.path.join(simdir,inputfile3D))"
   ]
  },
  {
   "cell_type": "code",
   "execution_count": 59,
   "metadata": {
    "ExecuteTime": {
     "end_time": "2020-04-03T11:38:36.914498Z",
     "start_time": "2020-04-03T11:38:36.908460Z"
    }
   },
   "outputs": [
    {
     "name": "stdout",
     "output_type": "stream",
     "text": [
      "save z coordinate\n"
     ]
    }
   ],
   "source": [
    "print(\"save z coordinate\")\n",
    "file_z_coord = os.path.join(resultdir,simname,\"z_coord.p\")\n",
    "pickle.dump(data3D.z,open(file_z_coord,\"wb\"))"
   ]
  },
  {
   "cell_type": "markdown",
   "metadata": {},
   "source": [
    "# Calculate stats over time"
   ]
  },
  {
   "cell_type": "code",
   "execution_count": 60,
   "metadata": {
    "ExecuteTime": {
     "end_time": "2020-04-03T11:38:37.937076Z",
     "start_time": "2020-04-03T11:38:37.933982Z"
    }
   },
   "outputs": [],
   "source": [
    "vars4stats = ['PW','CRH','LHF','SHF','LWNT','LWNS']"
   ]
  },
  {
   "cell_type": "markdown",
   "metadata": {},
   "source": [
    "## Edge "
   ]
  },
  {
   "cell_type": "markdown",
   "metadata": {},
   "source": [
    "### Load edges if existing"
   ]
  },
  {
   "cell_type": "code",
   "execution_count": 61,
   "metadata": {
    "ExecuteTime": {
     "end_time": "2020-04-03T11:38:39.004937Z",
     "start_time": "2020-04-03T11:38:38.992817Z"
    }
   },
   "outputs": [
    {
     "ename": "AttributeError",
     "evalue": "'Variable' object has no attribute '__dict__'",
     "output_type": "error",
     "traceback": [
      "\u001b[0;31m---------------------------------------------------------------------------\u001b[0m",
      "\u001b[0;31mAttributeError\u001b[0m                            Traceback (most recent call last)",
      "\u001b[0;32m<ipython-input-61-67f1baf6a099>\u001b[0m in \u001b[0;36m<module>\u001b[0;34m\u001b[0m\n\u001b[1;32m      3\u001b[0m \u001b[0;34m\u001b[0m\u001b[0m\n\u001b[1;32m      4\u001b[0m \u001b[0;32mif\u001b[0m \u001b[0mos\u001b[0m\u001b[0;34m.\u001b[0m\u001b[0mpath\u001b[0m\u001b[0;34m.\u001b[0m\u001b[0mexists\u001b[0m\u001b[0;34m(\u001b[0m\u001b[0mfile_edge_PW\u001b[0m\u001b[0;34m)\u001b[0m\u001b[0;34m:\u001b[0m\u001b[0;34m\u001b[0m\u001b[0;34m\u001b[0m\u001b[0m\n\u001b[0;32m----> 5\u001b[0;31m     \u001b[0medge_PW\u001b[0m \u001b[0;34m=\u001b[0m \u001b[0mpickle\u001b[0m\u001b[0;34m.\u001b[0m\u001b[0mload\u001b[0m\u001b[0;34m(\u001b[0m\u001b[0mopen\u001b[0m\u001b[0;34m(\u001b[0m\u001b[0mfile_edge_PW\u001b[0m\u001b[0;34m,\u001b[0m\u001b[0;34m\"rb\"\u001b[0m\u001b[0;34m)\u001b[0m\u001b[0;34m)\u001b[0m\u001b[0;34m\u001b[0m\u001b[0;34m\u001b[0m\u001b[0m\n\u001b[0m\u001b[1;32m      6\u001b[0m \u001b[0;32mif\u001b[0m \u001b[0mos\u001b[0m\u001b[0;34m.\u001b[0m\u001b[0mpath\u001b[0m\u001b[0;34m.\u001b[0m\u001b[0mexists\u001b[0m\u001b[0;34m(\u001b[0m\u001b[0mfile_edge_CRH\u001b[0m\u001b[0;34m)\u001b[0m\u001b[0;34m:\u001b[0m\u001b[0;34m\u001b[0m\u001b[0;34m\u001b[0m\u001b[0m\n\u001b[1;32m      7\u001b[0m     \u001b[0medge_CRH\u001b[0m \u001b[0;34m=\u001b[0m \u001b[0mpickle\u001b[0m\u001b[0;34m.\u001b[0m\u001b[0mload\u001b[0m\u001b[0;34m(\u001b[0m\u001b[0mopen\u001b[0m\u001b[0;34m(\u001b[0m\u001b[0mfile_edge_CRH\u001b[0m\u001b[0;34m,\u001b[0m\u001b[0;34m\"rb\"\u001b[0m\u001b[0;34m)\u001b[0m\u001b[0;34m)\u001b[0m\u001b[0;34m\u001b[0m\u001b[0;34m\u001b[0m\u001b[0m\n",
      "\u001b[0;31mAttributeError\u001b[0m: 'Variable' object has no attribute '__dict__'"
     ]
    }
   ],
   "source": [
    "\n",
    "file_edge_PW = os.path.join(resultdir,simname,\"edge_PW.p\")\n",
    "file_edge_CRH = os.path.join(resultdir,simname,\"edge_CRH.p\")\n",
    "\n",
    "if os.path.exists(file_edge_PW):\n",
    "    edge_PW = pickle.load(open(file_edge_PW,\"rb\"))\n",
    "if os.path.exists(file_edge_CRH):\n",
    "    edge_CRH = pickle.load(open(file_edge_CRH,\"rb\"))\n"
   ]
  },
  {
   "cell_type": "markdown",
   "metadata": {},
   "source": [
    "### Calculate edges"
   ]
  },
  {
   "cell_type": "code",
   "execution_count": 62,
   "metadata": {
    "ExecuteTime": {
     "end_time": "2020-04-03T11:38:43.666217Z",
     "start_time": "2020-04-03T11:38:40.013389Z"
    }
   },
   "outputs": [
    {
     "name": "stdout",
     "output_type": "stream",
     "text": [
      "Initialize and get edge\n"
     ]
    }
   ],
   "source": [
    "print(\"Initialize and get edge\")\n",
    "\n",
    "#- Get edge\n",
    "# PW\n",
    "edge_PW = EdgeOverTime()\n",
    "edge_PW.compute(data2D.PW)\n",
    "# CRH\n",
    "edge_CRH = EdgeOverTime()\n",
    "edge_CRH.compute(data2D.CRH)"
   ]
  },
  {
   "cell_type": "code",
   "execution_count": 63,
   "metadata": {
    "ExecuteTime": {
     "end_time": "2020-04-03T11:40:40.061701Z",
     "start_time": "2020-04-03T11:38:43.702198Z"
    }
   },
   "outputs": [
    {
     "name": "stdout",
     "output_type": "stream",
     "text": [
      "Calculate edge and stats for boundary defined based on CRH and PW\n",
      "PW, CRH, LHF, SHF, LWNT, LWNS, \n"
     ]
    }
   ],
   "source": [
    "print('Calculate edge and stats for boundary defined based on CRH and PW')\n",
    "\n",
    "#- Calculate stats\n",
    "for varid in vars4stats:\n",
    "    print(varid,end=', ')\n",
    "    for edge in edge_PW,edge_CRH:\n",
    "        \n",
    "        # mean on edge\n",
    "        edge.computeStatOnEdge(data2D[varid],varid)\n",
    "        # std on edge\n",
    "        edge.computeStatOnEdge(data2D[varid],varid,fname='std')\n",
    "        # mean of gradient norm on edge\n",
    "        edge.computeGradNormStatOnEdge(data2D[varid],varid)\n",
    "        # std of gradient norm on edge\n",
    "        edge.computeGradNormStatOnEdge(data2D[varid],varid,fname='std')\n",
    "\n",
    "print()"
   ]
  },
  {
   "cell_type": "code",
   "execution_count": 64,
   "metadata": {
    "ExecuteTime": {
     "end_time": "2020-04-03T11:44:28.884865Z",
     "start_time": "2020-04-03T11:40:40.094383Z"
    }
   },
   "outputs": [
    {
     "name": "stdout",
     "output_type": "stream",
     "text": [
      "Calculate 3D stats on edge for boundary defined based on CRH and PW\n",
      "QV, \n"
     ]
    }
   ],
   "source": [
    "print('Calculate 3D stats on edge for boundary defined based on CRH and PW')\n",
    "\n",
    "vars3D_stats_on_edge = 'QV',\n",
    "\n",
    "#- Calculate stats\n",
    "for varid in vars3D_stats_on_edge:\n",
    "    print(varid,end=', ')\n",
    "    for edge in edge_PW,edge_CRH:\n",
    "        \n",
    "        # mean on edge\n",
    "        edge.computeStatOnEdge(data3D[varid],varid)\n",
    "        # std on edge\n",
    "        edge.computeStatOnEdge(data3D[varid],varid,fname='std')\n",
    "        # mean of gradient norm on edge\n",
    "        edge.computeGradNormStatOnEdge(data3D[varid],varid)\n",
    "        # std of gradient norm on edge\n",
    "        edge.computeGradNormStatOnEdge(data3D[varid],varid,fname='std')\n",
    "\n",
    "print()"
   ]
  },
  {
   "cell_type": "code",
   "execution_count": 65,
   "metadata": {
    "ExecuteTime": {
     "end_time": "2020-04-03T11:44:28.920423Z",
     "start_time": "2020-04-03T11:44:28.917865Z"
    }
   },
   "outputs": [],
   "source": [
    "def showErrorRange(ax,x,y,dy,**kwargs):\n",
    "    \n",
    "    ax.fill_between(x,y-dy,y+dy,**kwargs)"
   ]
  },
  {
   "cell_type": "code",
   "execution_count": 66,
   "metadata": {
    "ExecuteTime": {
     "end_time": "2020-04-03T11:44:29.678171Z",
     "start_time": "2020-04-03T11:44:28.955128Z"
    }
   },
   "outputs": [
    {
     "name": "stdout",
     "output_type": "stream",
     "text": [
      "plot to compare edges defined from CRH and PW: stats on the boundary\n"
     ]
    }
   ],
   "source": [
    "print(\"plot to compare edges defined from CRH and PW: stats on the boundary\")\n",
    "\n",
    "x = data2D.time\n",
    "\n",
    "for varid in vars4stats:\n",
    "\n",
    "    # create figure \n",
    "    fig,ax0 = plt.subplots(ncols=1,figsize=(6,5))\n",
    "    \n",
    "    for refvarid in 'PW','CRH':\n",
    "\n",
    "        edge = getattr(thismodule,\"edge_%s\"%refvarid)\n",
    "        # Get data\n",
    "        v_mean = getattr(edge,\"%s_mean\"%varid)\n",
    "        v_std = getattr(edge,\"%s_std\"%varid)\n",
    "        # plot\n",
    "        showErrorRange(ax0,x,v_mean,v_std,alpha=0.2)\n",
    "        ax0.plot(x,v_mean,label='%s-edge'%refvarid)\n",
    "\n",
    "    # labels\n",
    "    ax0.set_xlabel('Days')\n",
    "    ax0.set_ylabel('%s (%s)'%(varid,data2D[varid].units))\n",
    "    ax0.legend()\n",
    "\n",
    "    # save and close figure\n",
    "    plt.savefig(os.path.join(figdir,simname,\"%s_onPWandCRHedge.pdf\"%varid),bbox_inches='tight')\n",
    "    plt.close()\n"
   ]
  },
  {
   "cell_type": "code",
   "execution_count": 67,
   "metadata": {
    "ExecuteTime": {
     "end_time": "2020-04-03T11:44:29.782031Z",
     "start_time": "2020-04-03T11:44:29.711352Z"
    }
   },
   "outputs": [
    {
     "name": "stdout",
     "output_type": "stream",
     "text": [
      "compute fraction area from thresholds based on PW and CRH\n"
     ]
    }
   ],
   "source": [
    "print(\"compute fraction area from thresholds based on PW and CRH\")\n",
    "\n",
    "# dry fraction area defined as PW below its value at the PW-edge\n",
    "edge_PW.computeFractionArea(data2D.PW,'PW')\n",
    "# dry fraction area defined as CRH below its value at the CRH-edge\n",
    "edge_CRH.computeFractionArea(data2D.CRH,'CRH')"
   ]
  },
  {
   "cell_type": "code",
   "execution_count": 68,
   "metadata": {
    "ExecuteTime": {
     "end_time": "2020-04-03T11:44:30.023248Z",
     "start_time": "2020-04-03T11:44:29.815146Z"
    }
   },
   "outputs": [
    {
     "name": "stdout",
     "output_type": "stream",
     "text": [
      "plot to compare edges defined from CRH and PW: dry fraction area\n"
     ]
    },
    {
     "data": {
      "image/png": "[encoded data removed]",
      "text/plain": [
       "<Figure size 432x360 with 1 Axes>"
      ]
     },
     "metadata": {
      "needs_background": "light"
     },
     "output_type": "display_data"
    }
   ],
   "source": [
    "print(\"plot to compare edges defined from CRH and PW: dry fraction area\")\n",
    "\n",
    "x = data2D.time\n",
    "fig,ax0 = plt.subplots(ncols=1,figsize=(6,5))\n",
    "\n",
    "ax0.plot(x,edge_PW.fracarea_PW,label='defined with PW edge')\n",
    "ax0.plot(x,edge_CRH.fracarea_CRH,label='defined with CRH edge')\n",
    "\n",
    "# labels\n",
    "ax0.set_xlabel('Days')\n",
    "ax0.set_ylabel('Dry fraction area (%)')\n",
    "ax0.legend()\n",
    "\n",
    "# save and close figure\n",
    "plt.savefig(os.path.join(figdir,simname,\"dry_fracarea_fromPWandCRHedge.pdf\"),bbox_inches='tight')\n",
    "plt.show()"
   ]
  },
  {
   "cell_type": "code",
   "execution_count": 69,
   "metadata": {
    "ExecuteTime": {
     "end_time": "2020-04-03T11:44:34.130444Z",
     "start_time": "2020-04-03T11:44:30.057196Z"
    }
   },
   "outputs": [
    {
     "name": "stdout",
     "output_type": "stream",
     "text": [
      "compute horizontal speed on edge\n"
     ]
    }
   ],
   "source": [
    "print(\"compute horizontal speed on edge\")\n",
    "\n",
    "UHSFC = np.sqrt(data2D.USFC**2 + data2D.VSFC**2)\n",
    "\n",
    "edge_CRH.computeStatOnEdge(UHSFC,varid='UHSFC')\n",
    "edge_PW.computeStatOnEdge(UHSFC,varid='UHSFC')"
   ]
  },
  {
   "cell_type": "markdown",
   "metadata": {},
   "source": [
    "### Save edges"
   ]
  },
  {
   "cell_type": "code",
   "execution_count": 70,
   "metadata": {
    "ExecuteTime": {
     "end_time": "2020-04-03T11:44:34.205469Z",
     "start_time": "2020-04-03T11:44:34.168028Z"
    }
   },
   "outputs": [
    {
     "name": "stdout",
     "output_type": "stream",
     "text": [
      "save edges defined from PW and CRH\n"
     ]
    }
   ],
   "source": [
    "print(\"save edges defined from PW and CRH\")\n",
    "\n",
    "pickle.dump(edge_PW,open(os.path.join(resultdir,simname,\"edge_PW.p\"),\"wb\"))\n",
    "pickle.dump(edge_CRH,open(os.path.join(resultdir,simname,\"edge_CRH.p\"),\"wb\"))"
   ]
  },
  {
   "cell_type": "markdown",
   "metadata": {},
   "source": [
    "## Absolute stats over time"
   ]
  },
  {
   "cell_type": "code",
   "execution_count": 81,
   "metadata": {
    "ExecuteTime": {
     "end_time": "2020-04-01T10:43:58.888130Z",
     "start_time": "2020-04-01T10:43:57.600420Z"
    }
   },
   "outputs": [
    {
     "name": "stdout",
     "output_type": "stream",
     "text": [
      "compute PW and CRH stats\n"
     ]
    }
   ],
   "source": [
    "print(\"compute PW and CRH stats\")\n",
    "\n",
    "r_refs = [10,25,50,75,90]\n",
    "\n",
    "# PW\n",
    "dist_PW = DistributionOverTime(name='PW',time_ref=data2D.time)\n",
    "dist_PW.computeDistributions(data2D.PW)\n",
    "dist_PW.computeIndividualPercentiles(data2D.PW,r_refs)\n",
    "# CRH\n",
    "dist_CRH = DistributionOverTime(name='CRH',time_ref=data2D.time)\n",
    "dist_CRH.computeDistributions(data2D.CRH)\n",
    "dist_CRH.computeIndividualPercentiles(data2D.CRH,r_refs)"
   ]
  },
  {
   "cell_type": "code",
   "execution_count": 82,
   "metadata": {
    "ExecuteTime": {
     "end_time": "2020-04-01T10:43:59.125692Z",
     "start_time": "2020-04-01T10:43:58.889904Z"
    }
   },
   "outputs": [
    {
     "name": "stdout",
     "output_type": "stream",
     "text": [
      "plot to compare aggregation definitions: PW/CRH at boundary and percentiles\n"
     ]
    },
    {
     "data": {
      "image/png": "[encoded data removed]",
      "text/plain": [
       "<Figure size 360x324 with 2 Axes>"
      ]
     },
     "metadata": {
      "needs_background": "light"
     },
     "output_type": "display_data"
    }
   ],
   "source": [
    "print(\"plot to compare aggregation definitions: PW/CRH at boundary and percentiles\")\n",
    "\n",
    "x = data2D.time\n",
    "fig,ax0 = plt.subplots(ncols=1,figsize=(5,4.5))\n",
    "\n",
    "# ax0.plot(x,edge_PW.fracarea_PW,label='defined with PW edge')\n",
    "# ax0.plot(x,edge_CRH.fracarea_CRH,label='defined with CRH edge')\n",
    "\n",
    "varids = 'PW','CRH'\n",
    "lt = '-',':'\n",
    "# col_r = \n",
    "ax1 = ax0.twinx()\n",
    "axs = [ax0,ax1]\n",
    "\n",
    "for i in range(2):\n",
    "\n",
    "    v = varids[i]\n",
    "    edge = getattr(thismodule,\"edge_%s\"%v)\n",
    "    dist = getattr(thismodule,\"dist_%s\"%v)\n",
    "    \n",
    "    # plot mean value at boundary\n",
    "    axs[i].plot(x,getattr(edge,\"%s_mean\"%v),c='k',label='%s at %s boundary'%(v,v),linestyle=lt[i])\n",
    "    # plot percentiles\n",
    "    for i_r in range(len(r_refs)):\n",
    "        r = r_refs[i_r]\n",
    "        lab = None\n",
    "        if i == 0: # turn off labels for CRH percentiles\n",
    "            lab = '%2.0fth'%r\n",
    "        axs[i].plot(dist.time,getattr(dist,\"perc%2.0f\"%r),label=lab,linestyle=lt[i])\n",
    "\n",
    "# labels\n",
    "ax0.set_xlabel('Days')\n",
    "ax0.set_ylabel('PW (mm)')\n",
    "ax1.set_ylabel('CRH (%)')\n",
    "ax1.set_ylim((-0.2,102))\n",
    "ax0.set_ylim((-0.2,82))\n",
    "# ax0.set_ylim((44.8,112))\n",
    "ax0.legend()\n",
    "ax1.legend(loc='upper left')\n",
    "\n",
    "# save and close figure\n",
    "plt.savefig(os.path.join(figdir,simname,\"PW_and_CRH_at_edge_vs_percentile.pdf\"),bbox_inches='tight')\n",
    "plt.show()"
   ]
  },
  {
   "cell_type": "code",
   "execution_count": 83,
   "metadata": {
    "ExecuteTime": {
     "end_time": "2020-04-01T10:43:59.327430Z",
     "start_time": "2020-04-01T10:43:59.126998Z"
    }
   },
   "outputs": [
    {
     "name": "stdout",
     "output_type": "stream",
     "text": [
      "plot to compare aggregation definitions: dry fraction area from border and PW/CRH percentiles\n"
     ]
    },
    {
     "data": {
      "image/png": "[encoded data removed]",
      "text/plain": [
       "<Figure size 360x324 with 2 Axes>"
      ]
     },
     "metadata": {
      "needs_background": "light"
     },
     "output_type": "display_data"
    }
   ],
   "source": [
    "print(\"plot to compare aggregation definitions: dry fraction area from border and PW/CRH percentiles\")\n",
    "\n",
    "x = data2D.time\n",
    "fig,ax0 = plt.subplots(ncols=1,figsize=(5,4.5))\n",
    "\n",
    "# ax0.plot(x,edge_PW.fracarea_PW,label='defined with PW edge')\n",
    "# ax0.plot(x,edge_CRH.fracarea_CRH,label='defined with CRH edge')\n",
    "\n",
    "# varids = 'PW','CRH'\n",
    "# varids = 'PW',\n",
    "varids = 'CRH',\n",
    "lt = '-',':'\n",
    "\n",
    "for i in range(len(varids)):\n",
    "\n",
    "    v = varids[i]\n",
    "    edge = getattr(thismodule,\"edge_%s\"%v)\n",
    "    dist = getattr(thismodule,\"dist_%s\"%v)\n",
    "    \n",
    "    ax0.plot(x,getattr(edge,\"fracarea_%s\"%v)*100,c='r',label='defined with %s edge'%v,linestyle=lt[i])\n",
    "    ax1 = ax0.twinx()\n",
    "    ax1.plot(dist.time,dist.perc90-dist.perc10,c='Gray',label='90th-10th',linestyle=lt[i])\n",
    "    ax1.plot(dist.time,dist.perc75-dist.perc25,c='DarkBlue',label='75th-25th',linestyle=lt[i])\n",
    "    \n",
    "    ax1.spines['right'].set_position(('data',ax1.get_xlim()[1]+i*10))\n",
    "    ax1.set_ylabel('%s (%s)'%(v,data2D[v].units))\n",
    "\n",
    "# labels\n",
    "ax0.set_xlabel('Days')\n",
    "ax0.set_ylabel('Dry fraction area (%)')\n",
    "ax0.tick_params(axis='y', colors='red')\n",
    "ax0.yaxis.label.set_color('red')\n",
    "ax0.legend()\n",
    "\n",
    "ax1.legend(loc='lower right')\n",
    "\n",
    "# save and close figure\n",
    "plt.savefig(os.path.join(figdir,simname,\"dry_fracarea_edge_vs_percentile_from_%s_edge.pdf\"%('_'.join(varids))),bbox_inches='tight')\n",
    "plt.show()"
   ]
  },
  {
   "cell_type": "markdown",
   "metadata": {},
   "source": [
    "### Save distributions"
   ]
  },
  {
   "cell_type": "code",
   "execution_count": 84,
   "metadata": {
    "ExecuteTime": {
     "end_time": "2020-04-01T10:43:59.335834Z",
     "start_time": "2020-04-01T10:43:59.328679Z"
    }
   },
   "outputs": [
    {
     "name": "stdout",
     "output_type": "stream",
     "text": [
      "save PW and CRH ditributions\n"
     ]
    }
   ],
   "source": [
    "print(\"save PW and CRH ditributions\")\n",
    "\n",
    "pickle.dump(dist_PW,open(os.path.join(resultdir,simname,\"dist_PW.p\"),\"wb\"))\n",
    "pickle.dump(dist_CRH,open(os.path.join(resultdir,simname,\"dist_CRH.p\"),\"wb\"))"
   ]
  },
  {
   "cell_type": "markdown",
   "metadata": {},
   "source": [
    "## Conditional stats"
   ]
  },
  {
   "cell_type": "code",
   "execution_count": 85,
   "metadata": {
    "ExecuteTime": {
     "end_time": "2020-04-01T10:43:59.342485Z",
     "start_time": "2020-04-01T10:43:59.337171Z"
    }
   },
   "outputs": [],
   "source": [
    "def gaussian_filter_xy(arr,sigma=8):\n",
    "    \"\"\"Smooth in x an y and recombine with same shape.\n",
    "    Assumes dimensions T,Z,Y,X\"\"\"\n",
    "    \n",
    "    ashape = arr.shape\n",
    "    \n",
    "    if len(ashape) == 3:\n",
    "        Nt,Ny,Nx = ashape\n",
    "        Nz = 0\n",
    "    elif len(ashape) == 4:\n",
    "        Nt,Nz,Ny,Nx = ashape\n",
    "    \n",
    "    arr_out = np.nan*np.zeros(ashape)\n",
    "    \n",
    "    for i_t in range(Nt):\n",
    "        \n",
    "        if Nz == 0:\n",
    "            arr_out[i_t,:,:] = gaussian_filter(arr[i_t,:,:],sigma=sigma,mode='wrap')\n",
    "        \n",
    "        else:\n",
    "            for i_z in range(Nz):\n",
    "\n",
    "                arr_out[i_t,i_z,:,:] = gaussian_filter(arr[i_t,i_z,:,:],sigma=sigma,mode='wrap')\n",
    "            \n",
    "    return arr_out"
   ]
  },
  {
   "cell_type": "code",
   "execution_count": 86,
   "metadata": {
    "ExecuteTime": {
     "end_time": "2020-04-01T10:44:28.436831Z",
     "start_time": "2020-04-01T10:43:59.343707Z"
    }
   },
   "outputs": [
    {
     "name": "stdout",
     "output_type": "stream",
     "text": [
      "smooth data before computing conditional statistics\n"
     ]
    }
   ],
   "source": [
    "print(\"smooth data before computing conditional statistics\")\n",
    "\n",
    "PW_smooth = gaussian_filter_xy(data2D.PW,8)\n",
    "CRH_smooth = gaussian_filter_xy(data2D.CRH,8)\n",
    "W_smooth = gaussian_filter_xy(data3D.W,8)\n",
    "QRAD_smooth = gaussian_filter_xy(data3D.QRAD,8)\n",
    "QV_smooth = gaussian_filter_xy(data3D.QV,8)"
   ]
  },
  {
   "cell_type": "code",
   "execution_count": 87,
   "metadata": {
    "ExecuteTime": {
     "end_time": "2020-04-01T10:46:44.272484Z",
     "start_time": "2020-04-01T10:44:28.438319Z"
    }
   },
   "outputs": [
    {
     "name": "stdout",
     "output_type": "stream",
     "text": [
      "compute reference statistics\n",
      "0_11 ; 1_12 ; 2_13 ; 3_14 ; 4_15 ; 5_16 ; 6_17 ; 7_18 ; 8_19 ; 9_20 ; 10_21 ; 11_22 ; 12_23 ; 13_24 ; 14_25 ; 15_26 ; 16_27 ; 17_28 ; 18_29 ; 19_30 ; 20_31 ; 21_32 ; 22_33 ; \n",
      "0_11 ; 1_12 ; 2_13 ; 3_14 ; 4_15 ; 5_16 ; 6_17 ; 7_18 ; 8_19 ; 9_20 ; 10_21 ; 11_22 ; 12_23 ; 13_24 ; 14_25 ; 15_26 ; 16_27 ; 17_28 ; 18_29 ; 19_30 ; 20_31 ; 21_32 ; 22_33 ; \n"
     ]
    }
   ],
   "source": [
    "print(\"compute reference statistics\")\n",
    "\n",
    "width = 10\n",
    "\n",
    "# PW\n",
    "dist_PW_smooth = DistributionOverTime(name='PW_smooth',width=width,time_ref=data2D.time)\n",
    "dist_PW_smooth.computeDistributions(PW_smooth)\n",
    "dist_PW_smooth.storeSamplePoints(PW_smooth)\n",
    "dist_PW_smooth.computeIndividualPercentiles(PW_smooth,r_refs)\n",
    "# CRH\n",
    "dist_CRH_smooth = DistributionOverTime(name='CRH_smooth',width=width,time_ref=data3D.time)\n",
    "dist_CRH_smooth.computeDistributions(CRH_smooth)\n",
    "dist_CRH_smooth.storeSamplePoints(CRH_smooth)\n",
    "dist_CRH_smooth.computeIndividualPercentiles(CRH_smooth,r_refs)"
   ]
  },
  {
   "cell_type": "code",
   "execution_count": 88,
   "metadata": {
    "ExecuteTime": {
     "end_time": "2020-04-01T10:46:44.290530Z",
     "start_time": "2020-04-01T10:46:44.273918Z"
    }
   },
   "outputs": [
    {
     "name": "stdout",
     "output_type": "stream",
     "text": [
      "save reference distributions\n"
     ]
    }
   ],
   "source": [
    "print(\"save reference distributions\")\n",
    "\n",
    "pickle.dump(dist_PW_smooth,open(os.path.join(resultdir,simname,\"dist_PW_smooth_dt%s.p\"%width),\"wb\"))\n",
    "pickle.dump(dist_CRH_smooth,open(os.path.join(resultdir,simname,\"dist_CRH_smooth_dt%s.p\"%width),\"wb\"))\n"
   ]
  },
  {
   "cell_type": "code",
   "execution_count": 89,
   "metadata": {
    "ExecuteTime": {
     "end_time": "2020-04-01T10:47:03.496685Z",
     "start_time": "2020-04-01T10:46:44.291704Z"
    }
   },
   "outputs": [
    {
     "name": "stdout",
     "output_type": "stream",
     "text": [
      "compute conditional profiles\n"
     ]
    }
   ],
   "source": [
    "print(\"compute conditional profiles\")\n",
    "\n",
    "refvars = 'PW','CRH'\n",
    "# condvars = 'W',\"QRAD\"\n",
    "condvars = \"QV\",\n",
    "\n",
    "for refvar in refvars:\n",
    "    for condvar in condvars:\n",
    "\n",
    "        # initialize\n",
    "        refdata = getattr(thismodule,\"dist_%s_smooth\"%refvar)\n",
    "        d = ConditionalDistributionOverTime(name=condvar,\n",
    "                                            time_ref=data2D.time,\n",
    "                                            width = width,\n",
    "                                            is3D=True,\n",
    "                                            isTime=True,\n",
    "                                            on=refdata)\n",
    "        \n",
    "        # compute\n",
    "        conddata = getattr(thismodule,\"%s_smooth\"%condvar)\n",
    "        d.computeConditionalStatsOverTime(conddata)\n",
    "        \n",
    "        setattr(thismodule,\"cdist_%s_on_%s\"%(condvar,refvar),d)"
   ]
  },
  {
   "cell_type": "code",
   "execution_count": 90,
   "metadata": {
    "ExecuteTime": {
     "end_time": "2020-04-01T10:47:03.520712Z",
     "start_time": "2020-04-01T10:47:03.498143Z"
    }
   },
   "outputs": [
    {
     "name": "stdout",
     "output_type": "stream",
     "text": [
      "save conditional distributions\n"
     ]
    }
   ],
   "source": [
    "print(\"save conditional distributions\")\n",
    "\n",
    "refvars = 'PW','CRH'\n",
    "# condvars = 'W',\"QRAD\"\n",
    "condvars = \"QV\",\n",
    "\n",
    "for refvar in refvars:\n",
    "    for condvar in condvars:\n",
    "        \n",
    "        cdist = getattr(thismodule,\"cdist_%s_on_%s\"%(condvar,refvar))\n",
    "        savename = \"cdist_%s_on_%s_smooth_dt%s.p\"%(condvar,refvar,width)\n",
    "\n",
    "        pickle.dump(cdist,open(os.path.join(resultdir,simname,savename),\"wb\"))"
   ]
  },
  {
   "cell_type": "markdown",
   "metadata": {},
   "source": [
    "## Tests"
   ]
  },
  {
   "cell_type": "code",
   "execution_count": null,
   "metadata": {},
   "outputs": [],
   "source": []
  }
 ],
 "metadata": {
  "hide_input": false,
  "kernelspec": {
   "display_name": "Python 3",
   "language": "python",
   "name": "python3"
  },
  "language_info": {
   "codemirror_mode": {
    "name": "ipython",
    "version": 3
   },
   "file_extension": ".py",
   "mimetype": "text/x-python",
   "name": "python",
   "nbconvert_exporter": "python",
   "pygments_lexer": "ipython3",
   "version": "3.7.6"
  },
  "toc": {
   "base_numbering": 1,
   "nav_menu": {},
   "number_sections": true,
   "sideBar": true,
   "skip_h1_title": false,
   "title_cell": "Table of Contents",
   "title_sidebar": "Contents",
   "toc_cell": false,
   "toc_position": {},
   "toc_section_display": true,
   "toc_window_display": false
  },
  "varInspector": {
   "cols": {
    "lenName": 16,
    "lenType": 16,
    "lenVar": 40
   },
   "kernels_config": {
    "python": {
     "delete_cmd_postfix": "",
     "delete_cmd_prefix": "del ",
     "library": "var_list.py",
     "varRefreshCmd": "print(var_dic_list())"
    },
    "r": {
     "delete_cmd_postfix": ") ",
     "delete_cmd_prefix": "rm(",
     "library": "var_list.r",
     "varRefreshCmd": "cat(var_dic_list()) "
    }
   },
   "types_to_exclude": [
    "module",
    "function",
    "builtin_function_or_method",
    "instance",
    "_Feature"
   ],
   "window_display": false
  }
 },
 "nbformat": 4,
 "nbformat_minor": 2
}
