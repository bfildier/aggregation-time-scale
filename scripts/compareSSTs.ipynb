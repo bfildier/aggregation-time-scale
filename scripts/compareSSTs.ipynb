{
 "cells": [
  {
   "cell_type": "code",
   "execution_count": 1,
   "metadata": {
    "ExecuteTime": {
     "end_time": "2020-03-06T20:52:37.961216Z",
     "start_time": "2020-03-06T20:52:37.698293Z"
    }
   },
   "outputs": [],
   "source": [
    "%load_ext autoreload\n",
    "%matplotlib inline"
   ]
  },
  {
   "cell_type": "code",
   "execution_count": 3,
   "metadata": {
    "ExecuteTime": {
     "end_time": "2020-03-06T20:52:48.201653Z",
     "start_time": "2020-03-06T20:52:48.198345Z"
    }
   },
   "outputs": [],
   "source": [
    "import os,sys,glob\n",
    "import matplotlib\n",
    "import matplotlib.pyplot as plt\n",
    "import numpy as np\n",
    "import pandas as pd\n",
    "import xarray as xr\n",
    "import pickle \n",
    "\n",
    "from scipy.ndimage.filters import gaussian_filter,convolve\n",
    "# interactive\n",
    "from mpl_toolkits.axes_grid1 import make_axes_locatable\n"
   ]
  },
  {
   "cell_type": "code",
   "execution_count": 4,
   "metadata": {
    "ExecuteTime": {
     "end_time": "2020-03-06T20:52:49.163004Z",
     "start_time": "2020-03-06T20:52:49.157559Z"
    }
   },
   "outputs": [
    {
     "name": "stdout",
     "output_type": "stream",
     "text": [
      "repo: /Users/bfildier/Code/analyses/aggregation-time-scale\n",
      "Own modules available: ['plot2D', 'conditionalstats', 'moistdryedge']\n"
     ]
    }
   ],
   "source": [
    "## Add own library to path\n",
    "workdir = os.getcwd()\n",
    "repodir = workdir\n",
    "projectname = 'aggregation-time-scale'\n",
    "while os.path.basename(repodir) != projectname:\n",
    "    repodir = os.path.dirname(repodir)\n",
    "print('repo:',repodir)\n",
    "thismodule = sys.modules[__name__]\n",
    "## Own functions\n",
    "moduledir = os.path.join(repodir,'functions')\n",
    "sys.path.insert(0,moduledir)\n",
    "print(\"Own modules available:\", [os.path.splitext(os.path.basename(x))[0]\n",
    "                                 for x in glob.glob(os.path.join(moduledir,'*.py'))])"
   ]
  },
  {
   "cell_type": "code",
   "execution_count": 5,
   "metadata": {
    "ExecuteTime": {
     "end_time": "2020-03-06T20:52:58.236642Z",
     "start_time": "2020-03-06T20:52:58.089801Z"
    }
   },
   "outputs": [],
   "source": [
    "# local input directory\n",
    "inputdir = os.path.join(repodir,'input','irene')\n",
    "figdir = os.path.join(repodir,'figures')\n",
    "resultdir = os.path.join(repodir,'results')\n",
    "\n",
    "## Load own libraries\n",
    "from moistdryedge import *\n",
    "from conditionalstats import *\n",
    "from plot2D import *\n",
    "\n",
    "## Graphical parameters\n",
    "plt.style.use(os.path.join(matplotlib.get_configdir(),'stylelib/presentation.mplstyle'))"
   ]
  },
  {
   "cell_type": "code",
   "execution_count": 7,
   "metadata": {
    "ExecuteTime": {
     "end_time": "2020-03-06T20:54:30.851443Z",
     "start_time": "2020-03-06T20:54:30.847943Z"
    }
   },
   "outputs": [],
   "source": [
    "SSTs = 301,303,305\n",
    "\n",
    "def getSimname(SST):\n",
    "    \n",
    "    return 'SAM6113_RCE_SST%dd1p0r1'%SST\n"
   ]
  },
  {
   "cell_type": "code",
   "execution_count": null,
   "metadata": {},
   "outputs": [],
   "source": [
    "print(\"load all \")"
   ]
  }
 ],
 "metadata": {
  "hide_input": false,
  "kernelspec": {
   "display_name": "Python 3",
   "language": "python",
   "name": "python3"
  },
  "language_info": {
   "codemirror_mode": {
    "name": "ipython",
    "version": 3
   },
   "file_extension": ".py",
   "mimetype": "text/x-python",
   "name": "python",
   "nbconvert_exporter": "python",
   "pygments_lexer": "ipython3",
   "version": "3.7.4"
  },
  "toc": {
   "base_numbering": 1,
   "nav_menu": {},
   "number_sections": true,
   "sideBar": true,
   "skip_h1_title": false,
   "title_cell": "Table of Contents",
   "title_sidebar": "Contents",
   "toc_cell": false,
   "toc_position": {},
   "toc_section_display": true,
   "toc_window_display": false
  },
  "varInspector": {
   "cols": {
    "lenName": 16,
    "lenType": 16,
    "lenVar": 40
   },
   "kernels_config": {
    "python": {
     "delete_cmd_postfix": "",
     "delete_cmd_prefix": "del ",
     "library": "var_list.py",
     "varRefreshCmd": "print(var_dic_list())"
    },
    "r": {
     "delete_cmd_postfix": ") ",
     "delete_cmd_prefix": "rm(",
     "library": "var_list.r",
     "varRefreshCmd": "cat(var_dic_list()) "
    }
   },
   "types_to_exclude": [
    "module",
    "function",
    "builtin_function_or_method",
    "instance",
    "_Feature"
   ],
   "window_display": false
  }
 },
 "nbformat": 4,
 "nbformat_minor": 2
}
